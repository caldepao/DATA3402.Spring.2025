{
 "cells": [
  {
   "cell_type": "markdown",
   "metadata": {},
   "source": [
    "# Lab 6"
   ]
  },
  {
   "cell_type": "markdown",
   "metadata": {},
   "source": [
    "You are tasked with evaluating card counting strategies for black jack. In order to do so, you will use object oriented programming to create a playable casino style black jack game where a computer dealer plays against $n$ computer players and possibily one human player. If you don't know the rules of blackjack or card counting, please google it. \n",
    "\n",
    "A few requirements:\n",
    "* The game should utilize multiple 52-card decks. Typically the game is played with 6 decks.\n",
    "* Players should have chips.\n",
    "* Dealer's actions are predefined by rules of the game (typically hit on 16). \n",
    "* The players should be aware of all shown cards so that they can count cards.\n",
    "* Each player could have a different strategy.\n",
    "* The system should allow you to play large numbers of games, study the outcomes, and compare average winnings per hand rate for different strategies."
   ]
  },
  {
   "cell_type": "code",
   "execution_count": 2,
   "metadata": {},
   "outputs": [],
   "source": [
    "import pandas as pd\n",
    "import numpy as pd\n",
    "import matplotlib as plot\n",
    "import seaborn as sns\n",
    "import plotly.express as px\n",
    "import random as random"
   ]
  },
  {
   "cell_type": "markdown",
   "metadata": {},
   "source": [
    "1. Begin by creating a classes to represent cards and decks. The deck should support more than one 52-card set. The deck should allow you to shuffle and draw cards. Include a \"plastic\" card, placed randomly in the deck. Later, when the plastic card is dealt, shuffle the cards before the next deal."
   ]
  },
  {
   "cell_type": "code",
   "execution_count": 6,
   "metadata": {},
   "outputs": [],
   "source": [
    "# card class\n",
    "\n",
    "class Card:\n",
    "    def __init__(self, suit, rank):\n",
    "        self.suit = suit\n",
    "        self.rank = rank\n",
    "\n",
    "    def __repr__(self):\n",
    "        return f\"{self.rank} of {self.suit}\""
   ]
  },
  {
   "cell_type": "code",
   "execution_count": 8,
   "metadata": {},
   "outputs": [],
   "source": [
    "## deck class\n",
    "\n",
    "class Deck:\n",
    "    def __init__(self, num_sets=6): ## 6 decks is standard\n",
    "        self.cards = [Card(s, r) for s in ['Hearts', 'Diamonds', 'Clubs', 'Spades'] for r in ['2', '3', '4', '5', '6', '7', '8', '9', '10', 'Jack', 'Queen', 'King', 'Ace'] for _ in range(num_sets)]\n",
    "        self.shuffle()\n",
    "        self.plastic_index = random.randint(20, 30)\n",
    "\n",
    "    def shuffle(self):\n",
    "        random.shuffle(self.cards)\n",
    "\n",
    "    def draw(self):\n",
    "        return self.cards.pop(0)\n",
    "\n",
    "    def replace_plastic_card(self):\n",
    "        self.cards.insert(self.plastic_index, self.draw())\n",
    "\n",
    "    def __repr__(self):\n",
    "        return f\"Deck with {len(self.cards)} cards\""
   ]
  },
  {
   "cell_type": "code",
   "execution_count": 10,
   "metadata": {},
   "outputs": [
    {
     "name": "stdout",
     "output_type": "stream",
     "text": [
      "Deck with 104 cards\n",
      "Hand: [Ace of Clubs, 8 of Diamonds, 7 of Spades]\n",
      "Deck with 101 cards\n"
     ]
    }
   ],
   "source": [
    "deck = Deck(num_sets=2)\n",
    "print(deck)\n",
    "\n",
    "hand_size = 3\n",
    "hand = [deck.draw() for i in range(hand_size)]\n",
    "print(\"Hand:\", hand)\n",
    "\n",
    "print(deck)"
   ]
  },
  {
   "cell_type": "markdown",
   "metadata": {},
   "source": [
    "2. Now design your game on a UML diagram. You may want to create classes to represent, players, a hand, and/or the game. As you work through the lab, update your UML diagram. At the end of the lab, submit your diagram (as pdf file) along with your notebook. "
   ]
  },
  {
   "cell_type": "code",
   "execution_count": null,
   "metadata": {},
   "outputs": [],
   "source": [
    "## PDF is in git along with my submission :)"
   ]
  },
  {
   "cell_type": "markdown",
   "metadata": {},
   "source": [
    "3. Begin with implementing the skeleton (ie define data members and methods/functions, but do not code the logic) of the classes in your UML diagram."
   ]
  },
  {
   "cell_type": "code",
   "execution_count": 12,
   "metadata": {},
   "outputs": [],
   "source": [
    "class Card:\n",
    "    def __init__(self, suit, rank):\n",
    "        self.suit = suit\n",
    "        self.rank = rank\n",
    "\n",
    "    def __repr__(self):\n",
    "        return f\"{self.rank} of {self.suit}\"  # Return a string representation of the card\n",
    "\n",
    "class Deck:\n",
    "    def __init__(self, num_sets=6):\n",
    "        self.num_sets = num_sets  # num of card sets in the deck\n",
    "        self.cards = []  # empty ist\n",
    "        self.plastic_index = None  # index of the plastic card\n",
    "\n",
    "    def shuffle(self):\n",
    "        pass\n",
    "\n",
    "    def draw(self):\n",
    "        pass\n",
    "\n",
    "    def replace_plastic_card(self):\n",
    "        pass\n",
    "\n",
    "    def __repr__(self):\n",
    "        pass\n",
    "\n",
    "class Player:\n",
    "    def __init__(self, name, chips=100):\n",
    "        self.name, self.chips, self.hand = name, chips, []\n",
    "\n",
    "    def bet(self):\n",
    "        pass\n",
    "\n",
    "    def win(self, amount):\n",
    "        pass\n",
    "\n",
    "    def lose(self, amount):\n",
    "        pass\n",
    "\n",
    "class CountingPlayer(Player):\n",
    "    def __init__(self, name, threshold):\n",
    "        super().__init__(name)  # calls the parent class constructor\n",
    "        self.threshold, self.count = threshold, 0\n",
    "    def update_count(self, card):\n",
    "        pass\n",
    "\n",
    "    def decide(self):\n",
    "        pass\n",
    "\n",
    "class Dealer(Player):\n",
    "    def decide(self):\n",
    "        pass  #hit or stay\n",
    "\n",
    "def simulate_round(players, deck):\n",
    "    pass\n",
    "\n",
    "def simulate_game():\n",
    "    pass"
   ]
  },
  {
   "cell_type": "markdown",
   "metadata": {},
   "source": [
    "4. Complete the implementation by coding the logic of all functions. For now, just implement the dealer player and human player."
   ]
  },
  {
   "cell_type": "code",
   "execution_count": 14,
   "metadata": {},
   "outputs": [],
   "source": [
    "class Player:\n",
    "    def __init__(self, name):\n",
    "        self.name = name\n",
    "        self.hand = []\n",
    "\n",
    "class Dealer(Player):\n",
    "    def __init__(self):\n",
    "        super().__init__(\"Dealer\")\n",
    "\n",
    "class HumanPlayer(Player): pass"
   ]
  },
  {
   "cell_type": "markdown",
   "metadata": {},
   "source": [
    "5.  Test. Demonstrate game play. For example, create a game of several dealer players and show that the game is functional through several rounds."
   ]
  },
  {
   "cell_type": "code",
   "execution_count": 16,
   "metadata": {},
   "outputs": [],
   "source": [
    "class Card:\n",
    "    def __init__(self, suit, rank):\n",
    "        self.suit = suit\n",
    "        self.rank = rank\n",
    "\n",
    "    def __repr__(self):\n",
    "        return f\"{self.rank} of {self.suit}\"\n",
    "\n",
    "class Deck:\n",
    "    def __init__(self, n =1):\n",
    "        self.cards = [Card(s, r) for s in 'Hearts Diamonds Clubs Spades'.split() for r in '2 3 4 5 6 7 8 9 10 Jack Queen King Ace'.split() for _ in range(n)]\n",
    "        self.shuffle()\n",
    "\n",
    "    def shuffle(self):\n",
    "        random.shuffle(self.cards)\n",
    "\n",
    "    def draw(self):\n",
    "        return self.cards.pop(0)\n",
    "\n",
    "class Player:\n",
    "    def __init__(self, name):\n",
    "        self.name = name\n",
    "        self.hand = []\n",
    "\n",
    "class Dealer(Player):\n",
    "    def __init__(self):\n",
    "        super().__init__(\"Dealer\")\n",
    "\n",
    "class Game:\n",
    "    def __init__(self, n):\n",
    "        self.deck = Deck()\n",
    "        self.players = [Dealer() for _ in range(n)] + [Player(\"Human\")]\n",
    "\n",
    "    def deal(self):\n",
    "        for _ in range(2):\n",
    "            for p in self.players:\n",
    "                p.hand.append(self.deck.draw())\n",
    "\n",
    "    def play_round(self):\n",
    "        self.deal()\n",
    "        for p in self.players:\n",
    "            print(f\"{p.name}'s hand:\", p.hand)"
   ]
  },
  {
   "cell_type": "code",
   "execution_count": 18,
   "metadata": {},
   "outputs": [
    {
     "name": "stdout",
     "output_type": "stream",
     "text": [
      "Round 1:\n",
      "Dealer's hand: [6 of Diamonds, 9 of Hearts]\n",
      "Dealer's hand: [5 of Diamonds, Queen of Diamonds]\n",
      "Dealer's hand: [7 of Hearts, King of Hearts]\n",
      "Dealer's hand: [King of Spades, 10 of Diamonds]\n",
      "Dealer's hand: [2 of Clubs, 7 of Diamonds]\n",
      "Human's hand: [Ace of Diamonds, 5 of Spades]\n",
      "\n",
      "Round 2:\n",
      "Dealer's hand: [6 of Diamonds, 9 of Hearts, Jack of Spades, 10 of Clubs]\n",
      "Dealer's hand: [5 of Diamonds, Queen of Diamonds, 6 of Hearts, Jack of Diamonds]\n",
      "Dealer's hand: [7 of Hearts, King of Hearts, 2 of Hearts, 9 of Diamonds]\n",
      "Dealer's hand: [King of Spades, 10 of Diamonds, Ace of Spades, 9 of Clubs]\n",
      "Dealer's hand: [2 of Clubs, 7 of Diamonds, King of Clubs, 3 of Hearts]\n",
      "Human's hand: [Ace of Diamonds, 5 of Spades, 8 of Hearts, 8 of Diamonds]\n",
      "\n",
      "Round 3:\n",
      "Dealer's hand: [6 of Diamonds, 9 of Hearts, Jack of Spades, 10 of Clubs, 5 of Hearts, 6 of Spades]\n",
      "Dealer's hand: [5 of Diamonds, Queen of Diamonds, 6 of Hearts, Jack of Diamonds, 9 of Spades, 4 of Hearts]\n",
      "Dealer's hand: [7 of Hearts, King of Hearts, 2 of Hearts, 9 of Diamonds, 3 of Spades, 2 of Diamonds]\n",
      "Dealer's hand: [King of Spades, 10 of Diamonds, Ace of Spades, 9 of Clubs, 3 of Clubs, 8 of Spades]\n",
      "Dealer's hand: [2 of Clubs, 7 of Diamonds, King of Clubs, 3 of Hearts, 7 of Clubs, Jack of Clubs]\n",
      "Human's hand: [Ace of Diamonds, 5 of Spades, 8 of Hearts, 8 of Diamonds, 4 of Diamonds, Queen of Spades]\n",
      "\n",
      "Round 4:\n",
      "Dealer's hand: [6 of Diamonds, 9 of Hearts, Jack of Spades, 10 of Clubs, 5 of Hearts, 6 of Spades, 4 of Spades, 4 of Clubs]\n",
      "Dealer's hand: [5 of Diamonds, Queen of Diamonds, 6 of Hearts, Jack of Diamonds, 9 of Spades, 4 of Hearts, 10 of Spades, 6 of Clubs]\n",
      "Dealer's hand: [7 of Hearts, King of Hearts, 2 of Hearts, 9 of Diamonds, 3 of Spades, 2 of Diamonds, Queen of Clubs, 7 of Spades]\n",
      "Dealer's hand: [King of Spades, 10 of Diamonds, Ace of Spades, 9 of Clubs, 3 of Clubs, 8 of Spades, 3 of Diamonds, 10 of Hearts]\n",
      "Dealer's hand: [2 of Clubs, 7 of Diamonds, King of Clubs, 3 of Hearts, 7 of Clubs, Jack of Clubs, Ace of Hearts, Ace of Clubs]\n",
      "Human's hand: [Ace of Diamonds, 5 of Spades, 8 of Hearts, 8 of Diamonds, 4 of Diamonds, Queen of Spades, Queen of Hearts, Jack of Hearts]\n",
      "\n"
     ]
    }
   ],
   "source": [
    "game_1 = Game(5)\n",
    "\n",
    "for i in range(1,5):\n",
    "    print(f\"Round {i}:\")\n",
    "    game_1.play_round()\n",
    "    print()"
   ]
  },
  {
   "cell_type": "markdown",
   "metadata": {},
   "source": [
    "6. Implement a new player with the following strategy:\n",
    "\n",
    "    * Assign each card a value: \n",
    "        * Cards 2 to 6 are +1 \n",
    "        * Cards 7 to 9 are 0 \n",
    "        * Cards 10 through Ace are -1\n",
    "    * Compute the sum of the values for all cards seen so far.\n",
    "    * Hit if sum is very negative, stay if sum is very positive. Select a threshold for hit/stay, e.g. 0 or -2.  "
   ]
  },
  {
   "cell_type": "code",
   "execution_count": 20,
   "metadata": {},
   "outputs": [
    {
     "name": "stdout",
     "output_type": "stream",
     "text": [
      "Decision: Stay\n"
     ]
    }
   ],
   "source": [
    "class Card:\n",
    "    def __init__(self, suit, rank):\n",
    "        self.suit = suit\n",
    "        self.rank = rank\n",
    "\n",
    "    def __repr__(self):\n",
    "        return f\"{self.rank} of {self.suit}\"\n",
    "\n",
    "    def card_value(self):\n",
    "        value = -1\n",
    "\n",
    "        if self.rank == 'Ace':\n",
    "            value = -1\n",
    "        elif 2 <= int(self.rank) <= 6:\n",
    "            value = 1\n",
    "        elif 7 <= int(self.rank) <= 9:\n",
    "            value = 0\n",
    "        return value\n",
    "\n",
    "class CardCounter(Player):\n",
    "    def __init__(self, name):\n",
    "        super().__init__(name)\n",
    "        self.threshold = -2\n",
    "        self.count = 0\n",
    "\n",
    "    def update_count(self, card):\n",
    "        self.count += card.card_value()\n",
    "\n",
    "    def decide(self):\n",
    "        return \"Hit\" if self.count < self.threshold else \"Stay\"\n",
    "\n",
    "player =  CardCounter(\"Counting Player\")\n",
    "cards = [Card('Hearts', '2'), Card('Spades', '9'), Card('Clubs', 'Ace')]\n",
    "\n",
    "for card in cards:\n",
    "    player.update_count(card)\n",
    "\n",
    "print(\"Decision:\", player.decide())"
   ]
  },
  {
   "cell_type": "code",
   "execution_count": 22,
   "metadata": {},
   "outputs": [],
   "source": [
    "class Card:\n",
    "    def __init__(self, suit, rank):\n",
    "        self.suit = suit\n",
    "        self.rank = rank\n",
    "\n",
    "    def __repr__(self):\n",
    "        return f\"{self.rank} of {self.suit}\"\n",
    "\n",
    "    def card_value(self):\n",
    "        value = -1\n",
    "\n",
    "        if self.rank == 'Ace':\n",
    "            value = -1\n",
    "        elif 2 <= int(self.rank) <= 6:\n",
    "            value = 1\n",
    "        elif 7 <= int(self.rank) <= 9:\n",
    "            value = 0\n",
    "        return value\n",
    "\n",
    "class CardCounter(Player):\n",
    "    def __init__(self, name):\n",
    "        super().__init__(name)\n",
    "        self.threshold = -2\n",
    "        self.count = 0\n",
    "\n",
    "    def update_count(self, card):\n",
    "        self.count += card.card_value()\n",
    "\n",
    "    def decide(self):\n",
    "        return \"Hit\" if self.count < self.threshold else \"Stay\""
   ]
  },
  {
   "cell_type": "code",
   "execution_count": 24,
   "metadata": {},
   "outputs": [
    {
     "name": "stdout",
     "output_type": "stream",
     "text": [
      "Decision: Stay\n"
     ]
    }
   ],
   "source": [
    "player = CardCounter(\"Counting Player\")\n",
    "cards = [Card('Hearts', '1'), Card('Spades', '9'), Card('Clubs', 'Ace')]\n",
    "\n",
    "for i in cards:\n",
    "    player.update_count(i)\n",
    "\n",
    "print(\"Decision:\", player.decide())"
   ]
  },
  {
   "cell_type": "markdown",
   "metadata": {},
   "source": [
    "7. Create a test scenario where one player, using the above strategy, is playing with a dealer and 3 other players that follow the dealer's strategy. Each player starts with same number of chips. Play 50 rounds (or until the strategy player is out of money). Compute the strategy player's winnings. You may remove unnecessary printouts from your code (perhaps implement a verbose/quiet mode) to reduce the output."
   ]
  },
  {
   "cell_type": "code",
   "execution_count": 28,
   "metadata": {},
   "outputs": [],
   "source": [
    "class Card:\n",
    "    def __init__(self, suit, rank):\n",
    "        self.suit = suit\n",
    "        self.rank = rank\n",
    "\n",
    "    def __repr__(self):\n",
    "        return f\"{self.rank} of {self.suit}\"\n",
    "\n",
    "    def card_value(self):\n",
    "\n",
    "\n",
    "        if str(self.rank) in ('Ace', '2', '3', '4', '5', '6'):\n",
    "            return 1\n",
    "        elif str(self.rank) in ('7', '8', '9'):\n",
    "            return 0\n",
    "        else:  # 10, J, Q, K\n",
    "            return -1\n",
    "\n",
    "class Player:\n",
    "    def __init__(self, name, chips=100):\n",
    "        self.name = name\n",
    "        self.chips = chips\n",
    "        self.hand = []\n",
    "\n",
    "    def bet(self):\n",
    "        return 1\n",
    "\n",
    "    def win(self, amount):\n",
    "        self.chips += amount\n",
    "\n",
    "    def lose(self, amount):\n",
    "        self.chips -= amount\n",
    "\n",
    "class CardCounter(Player):\n",
    "    def __init__(self, name):\n",
    "        super().__init__(name)\n",
    "        self.threshold = -2\n",
    "        self.count = 0\n",
    "\n",
    "    def update_count(self, card):\n",
    "        self.count += card.card_value()\n",
    "\n",
    "    def decide(self):\n",
    "        return \"Hit\" if self.count < self.threshold else \"Stay\"\n",
    "\n",
    "class Dealer(Player):\n",
    "    def decide(self):\n",
    "        hand_value = sum(card.card_value() for card in self.hand)\n",
    "        return \"Hit\" if hand_value < 17 else \"Stay\"\n",
    "\n",
    "def simulate_round(players, deck):\n",
    "    if len(deck) < (len(players) * 2 + 1):\n",
    "        return\n",
    "        \n",
    "    for player in players: ## Assign hands\n",
    "        player.hand = [deck.pop(), deck.pop()]\n",
    "\n",
    "    dealer = players[0]\n",
    "    dealer.hand.append(deck.pop()) ##additional hand\n",
    "\n",
    "    for player in players[1:]:\n",
    "        while isinstance(player, CardCounter) and player.decide() == \"Hit\" and len(deck) > 0:\n",
    "            player.hand.append(deck.pop())\n",
    "            \n",
    "    while isinstance(dealer, Dealer) and dealer.decide() == \"Hit\" and len(deck) > 0:\n",
    "        dealer.hand.append(deck.pop())\n",
    "        \n",
    "    dealer_value = sum(card.card_value() for card in dealer.hand)\n",
    "    \n",
    "    for player in players[1:]: ## No dealer\n",
    "        if isinstance(player, CardCounter):\n",
    "            player_value = sum(card.card_value() for card in player.hand)\n",
    "            if player_value > 21 or (dealer_value <= 21 and dealer_value > player_value):\n",
    "                player.lose(player.bet())\n",
    "            elif player_value == dealer_value:\n",
    "                pass\n",
    "            else:  # 10, J, Q, K\n",
    "                player.win(player.bet())"
   ]
  },
  {
   "cell_type": "code",
   "execution_count": 30,
   "metadata": {},
   "outputs": [
    {
     "name": "stdout",
     "output_type": "stream",
     "text": [
      "Strategy Player's Winnings: 1\n"
     ]
    }
   ],
   "source": [
    "def simulate_game():\n",
    "    \n",
    "    dealer = Dealer(\"Dealer\")\n",
    "    strategy_player = CardCounter(\"Strategy Player\")\n",
    "    other_players = [Player(f\"Player {i+1}\") for i in range(3)]\n",
    "    players = [dealer, strategy_player] + other_players\n",
    "    \n",
    "    deck = [Card(suit, str(rank)) for suit in ['Hearts', 'Diamonds', 'Clubs', 'Spades'] for rank in range(1, 14)] *6\n",
    "    random.shuffle(deck)\n",
    "\n",
    "    rounds = 0\n",
    "\n",
    "    while rounds < 50 and strategy_player.chips > 0:\n",
    "        rounds += 1\n",
    "        simulate_round(players, deck)\n",
    "        \n",
    "    return strategy_player.chips - 100\n",
    "\n",
    "winnings = simulate_game()\n",
    "print(\"Strategy Player's Winnings:\", winnings) "
   ]
  },
  {
   "cell_type": "markdown",
   "metadata": {},
   "source": [
    "8. Create a loop that runs 100 games of 50 rounds, as setup in previous question, and store the strategy player's chips at the end of the game (aka \"winnings\") in a list. Histogram the winnings. What is the average winnings per round? What is the standard deviation. What is the probabilty of net winning or lossing after 50 rounds?\n"
   ]
  },
  {
   "cell_type": "code",
   "execution_count": 35,
   "metadata": {},
   "outputs": [],
   "source": [
    "class Card:\n",
    "    def __init__(self, suit, rank):\n",
    "        self.suit = suit\n",
    "        self.rank = rank\n",
    "\n",
    "    def __repr__(self):\n",
    "        return f\"{self.rank} of {self.suit}\"\n",
    "\n",
    "    def card_value(self):\n",
    "        if str(self.rank) in ('Ace', '2', '3', '4', '5', '6'):\n",
    "            return 1\n",
    "        elif str(self.rank) in ('7', '8', '9'):\n",
    "            return 0\n",
    "        else:  # 10, J, Q, K\n",
    "            return -1\n",
    "\n",
    "class Player:\n",
    "    def __init__(self, name, chips=100):\n",
    "        self.name = name\n",
    "        self.chips = chips\n",
    "        self.hand = []\n",
    "\n",
    "    def bet(self):\n",
    "        return 1\n",
    "\n",
    "    def win(self, amount):\n",
    "        self.chips += amount\n",
    "\n",
    "    def lose(self, amount):\n",
    "        self.chips -= amount\n",
    "\n",
    "class CardCounter(Player):\n",
    "    def __init__(self, name):\n",
    "        super().__init__(name)\n",
    "        self.threshold = -2\n",
    "        self.count = 0\n",
    "\n",
    "    def update_count(self, card):\n",
    "        self.count += card.card_value()\n",
    "\n",
    "    def decide(self):\n",
    "        return \"Hit\" if self.count < self.threshold else \"Stay\"\n",
    "\n",
    "class Dealer(Player):\n",
    "    def decide(self):\n",
    "        hand_value = sum(card.card_value() for card in self.hand)\n",
    "        return \"Hit\" if hand_value < 17 else \"Stay\"\n",
    "\n",
    "def simulate_round(players, deck):\n",
    "    if len(deck) < (len(players) * 2 + 1):\n",
    "        return\n",
    "\n",
    "    for player in players:\n",
    "        player.hand = [deck.pop(), deck.pop()]\n",
    "\n",
    "    dealer = players[0]\n",
    "    dealer.hand.append(deck.pop())\n",
    "    \n",
    "    for player in players[1:]:\n",
    "        while isinstance(player, CountingPlayer) and player.decide() == \"Hit\" and len(deck) > 0:\n",
    "            player.hand.append(deck.pop())\n",
    "\n",
    "    while isinstance(dealer, Dealer) and dealer.decide() == \"Hit\" and len(deck) > 0:\n",
    "        dealer.hand.append(deck.pop())\n",
    "\n",
    "    dealer_value = sum(card.card_value() for card in dealer.hand)\n",
    "    for player in players[1:]:\n",
    "        if isinstance(player, CountingPlayer):\n",
    "            player_value = sum(card.card_value() for card in player.hand)\n",
    "            if player_value > 21 or (dealer_value <= 21 and dealer_value > player_value):\n",
    "                player.lose(player.bet())\n",
    "            elif player_value == dealer_value:\n",
    "                pass\n",
    "            else:  # 10, J, Q, K\n",
    "                player.win(player.bet())\n",
    "\n",
    "def simulate_game():\n",
    "    dealer = Dealer(\"Dealer\")\n",
    "    strategy_player = CardCounter(\"Strategy Player\")\n",
    "    other_players = [Player(f\"Player {i+1}\") for i in range(3)]\n",
    "    players = [dealer, strategy_player] + other_players\n",
    "    deck = [Card(suit, str(rank)) for suit in ['Hearts', 'Diamonds', 'Clubs', 'Spades'] for rank in range(1, 14)]\n",
    "    random.shuffle(deck)\n",
    "\n",
    "    rounds = 0\n",
    "    while rounds < 50 and strategy_player.chips > 0:\n",
    "        rounds += 1\n",
    "        simulate_round(players, deck)\n",
    "\n",
    "    return strategy_player.chips - 100"
   ]
  },
  {
   "cell_type": "code",
   "execution_count": 39,
   "metadata": {},
   "outputs": [
    {
     "data": {
      "image/png": "[encoded data removed]",
      "text/plain": [
       "<Figure size 640x480 with 1 Axes>"
      ]
     },
     "metadata": {},
     "output_type": "display_data"
    },
    {
     "name": "stdout",
     "output_type": "stream",
     "text": [
      "Average Winnings per Round: 0.0\n",
      "Standard Deviation of Winnings: 0.0\n",
      "Probability of Net Winning after playing 50 rounds: 0.0\n",
      "Probability of Net Losing after playing 50 rounds: 0.0\n"
     ]
    }
   ],
   "source": [
    "import matplotlib.pyplot as plt\n",
    "import numpy as np\n",
    "\n",
    "game_results = []\n",
    "for i in range(100):\n",
    "    winnings = simulate_game()\n",
    "    game_results.append(winnings)\n",
    "\n",
    "\n",
    "## plotting winnings\n",
    "plt.hist(game_results, bins=20, color='pink')\n",
    "plt.xlabel(\"Wins\")\n",
    "plt.ylabel(\"Frequency\")\n",
    "plt.title(\"Player's Winnings\")\n",
    "plt.show()\n",
    "\n",
    "# mean\n",
    "avg_win = np.mean(game_results) / 50\n",
    "print(\"Average Winnings per Round:\", avg_win)\n",
    "\n",
    "# stdev\n",
    "std_win = np.std(game_results)\n",
    "print(\"Standard Deviation of Winnings:\", std_win)\n",
    "\n",
    "# prob. of winning or losing after x rounds\n",
    "prob_win = sum(1 for result in game_results if result > 0) / len(game_results)\n",
    "prob_lost = sum(1 for result in game_results if result < 0) / len(game_results)\n",
    "print(\"Probability of Net Winning after playing 50 rounds:\", prob_win)\n",
    "print(\"Probability of Net Losing after playing 50 rounds:\", prob_lost)"
   ]
  },
  {
   "cell_type": "markdown",
   "metadata": {},
   "source": [
    "9. Repeat previous questions scanning the value of the threshold. Try at least 5 different threshold values. Can you find an optimal value?"
   ]
  },
  {
   "cell_type": "code",
   "execution_count": 42,
   "metadata": {},
   "outputs": [],
   "source": [
    "class Card:\n",
    "    def __init__(self, suit, rank):\n",
    "        self.suit = suit\n",
    "        self.rank = rank\n",
    "\n",
    "    def card_value(self):\n",
    "        if str(self.rank) in ('Ace', '2', '3', '4', '5', '6'):\n",
    "            return 1\n",
    "        elif str(self.rank) in ('7', '8', '9'):\n",
    "            return 0\n",
    "        else:  # 10, J, Q, K\n",
    "            return -1\n",
    "\n",
    "class Player:\n",
    "    def __init__(self, chips=100):\n",
    "        self.chips = chips\n",
    "\n",
    "    def bet(self):\n",
    "        return 1\n",
    "\n",
    "    def win(self, amount):\n",
    "        self.chips += amount\n",
    "\n",
    "    def lose(self, amount):\n",
    "        self.chips -= amount\n",
    "\n",
    "class CardCounter(Player):\n",
    "    def __init__(self, threshold):\n",
    "        super().__init__()\n",
    "        self.threshold = threshold\n",
    "        self.count = 0\n",
    "\n",
    "    def decide(self):\n",
    "        return \"Hit\" if self.count < self.threshold else \"Stay\"\n",
    "\n",
    "class Dealer(Player):\n",
    "    def decide(self):\n",
    "        hand_value = sum(card.card_value() for card in self.hand)\n",
    "        return \"Hit\" if hand_value < 17 else \"Stay\"\n",
    "\n",
    "def simulate_round(players, deck):\n",
    "    for player in players:\n",
    "        player.hand = [deck.pop(), deck.pop()]\n",
    "\n",
    "    dealer = players[0]\n",
    "    dealer.hand.append(deck.pop())\n",
    "\n",
    "    for player in players[1:]:\n",
    "        while isinstance(player, CountingPlayer) and player.decide() == \"Hit\" and deck:\n",
    "            player.hand.append(deck.pop())\n",
    "\n",
    "    while isinstance(dealer, Dealer) and dealer.decide() == \"Hit\" and deck:\n",
    "        dealer.hand.append(deck.pop())\n",
    "\n",
    "    dealer_value = sum(card.card_value() for card in dealer.hand)\n",
    "    for player in players[1:]:\n",
    "        if isinstance(player, CountingPlayer):\n",
    "            player_value = sum(card.card_value() for card in player.hand)\n",
    "            if player_value > 21 or (dealer_value <= 21 and dealer_value > player_value):\n",
    "                player.lose(player.bet())\n",
    "            elif player_value != dealer_value:\n",
    "                player.win(player.bet())"
   ]
  },
  {
   "cell_type": "code",
   "execution_count": 44,
   "metadata": {},
   "outputs": [
    {
     "name": "stdout",
     "output_type": "stream",
     "text": [
      "Optimal Threshold Value: -3\n"
     ]
    }
   ],
   "source": [
    "def simulate_game(threshold):\n",
    "    dealer = Dealer()\n",
    "    strategy_player = CardCounter(threshold)\n",
    "    other_players = [Player() for i in range(3)]\n",
    "    players = [dealer, strategy_player] + other_players\n",
    "    deck = [Card(suit, str(rank)) for suit in ['Hearts', 'Diamonds', 'Clubs', 'Spades'] for rank in range(1, 14)]\n",
    "    random.shuffle(deck)\n",
    "\n",
    "    for i in range(50):\n",
    "        if deck:\n",
    "            simulate_round(players, deck)\n",
    "        else:\n",
    "            break\n",
    "\n",
    "    return strategy_player.chips - 100\n",
    "\n",
    "\n",
    "thres_vals = [-3, -2, -1, 0, 2]  # 1st Threshold values\n",
    "average_winnings_per_rounds = []\n",
    "\n",
    "for threshold in thres_vals:\n",
    "    game_results = [simulate_game(threshold) for i in range(100)] # 100 games for each threshold\n",
    "    avg_win = np.mean(game_results) / 50\n",
    "    average_winnings_per_rounds.append(avg_win)\n",
    "\n",
    "optimal_threshold_index = np.argmax(average_winnings_per_rounds)\n",
    "optimal_threshold = thres_vals[optimal_threshold_index]\n",
    "\n",
    "print(\"Optimal Threshold Value:\", optimal_threshold)"
   ]
  },
  {
   "cell_type": "code",
   "execution_count": 46,
   "metadata": {},
   "outputs": [
    {
     "name": "stdout",
     "output_type": "stream",
     "text": [
      "Optimal Threshold Value: -4\n"
     ]
    }
   ],
   "source": [
    "thres_vals = [-4, -2, 0, 1, 2]  # 1st Threshold values\n",
    "avg_win = []\n",
    "\n",
    "for threshold in thres_vals:\n",
    "    game_results = [simulate_game(threshold) for _ in range(100)] # 100 games for each threshold\n",
    "    avg_win = np.mean(game_results) / 50\n",
    "    average_winnings_per_rounds.append(avg_win)\n",
    "\n",
    "optimal_threshold_index = np.argmax(average_winnings_per_rounds)\n",
    "optimal_threshold = thres_vals[optimal_threshold_index]\n",
    "\n",
    "print(\"Optimal Threshold Value:\", optimal_threshold)"
   ]
  },
  {
   "cell_type": "code",
   "execution_count": 49,
   "metadata": {},
   "outputs": [
    {
     "name": "stdout",
     "output_type": "stream",
     "text": [
      "Optimal Threshold Value: -1\n"
     ]
    }
   ],
   "source": [
    "thres_vals = [-1, 0, 1, 2, 3]  # 1st Threshold values\n",
    "avg_win = []\n",
    "\n",
    "for threshold in thres_vals:\n",
    "    game_results = [simulate_game(threshold) for _ in range(100)] # 100 games for each threshold\n",
    "    avg_win = np.mean(game_results) / 50\n",
    "    average_winnings_per_rounds.append(avg_win)\n",
    "\n",
    "optimal_threshold_index = np.argmax(average_winnings_per_rounds)\n",
    "optimal_threshold = thres_vals[optimal_threshold_index]\n",
    "\n",
    "print(\"Optimal Threshold Value:\", optimal_threshold)"
   ]
  },
  {
   "cell_type": "code",
   "execution_count": 51,
   "metadata": {},
   "outputs": [
    {
     "name": "stdout",
     "output_type": "stream",
     "text": [
      "Optimal Threshold Value: 0\n"
     ]
    }
   ],
   "source": [
    "thres_vals = [0, 1, 2, 3, 4, 5]\n",
    "avg_win = []\n",
    "\n",
    "for threshold in thres_vals:\n",
    "    game_results = [simulate_game(threshold) for _ in range(100)]\n",
    "    avg_win = np.mean(game_results) / 50\n",
    "    average_winnings_per_rounds.append(avg_win)\n",
    "\n",
    "optimal_threshold_index = np.argmax(average_winnings_per_rounds)\n",
    "optimal_threshold = thres_vals[optimal_threshold_index]\n",
    "\n",
    "print(\"Optimal Threshold Value:\", optimal_threshold)"
   ]
  },
  {
   "cell_type": "code",
   "execution_count": 53,
   "metadata": {},
   "outputs": [
    {
     "name": "stdout",
     "output_type": "stream",
     "text": [
      "Optimal Threshold Value: -5\n"
     ]
    }
   ],
   "source": [
    "thres_vals = [-5, -4, -3, -2, -1]\n",
    "avg_win = []\n",
    "\n",
    "for threshold in thres_vals:\n",
    "    game_results = [simulate_game(threshold) for _ in range(100)]\n",
    "    avg_win = np.mean(game_results) / 50\n",
    "    average_winnings_per_rounds.append(avg_win)\n",
    "\n",
    "optimal_threshold_index = np.argmax(average_winnings_per_rounds)\n",
    "optimal_threshold = thres_vals[optimal_threshold_index]\n",
    "\n",
    "print(\"Optimal Threshold Value:\", optimal_threshold)"
   ]
  },
  {
   "cell_type": "markdown",
   "metadata": {},
   "source": [
    "10. Create a new strategy based on web searches or your own ideas. Demonstrate that the new strategy will result in increased or decreased winnings. "
   ]
  },
  {
   "cell_type": "code",
   "execution_count": 56,
   "metadata": {},
   "outputs": [],
   "source": [
    "class Card:\n",
    "    def __init__(self, suit, rank):\n",
    "        self.suit, self.rank = suit, rank\n",
    "    def card_value(self):\n",
    "\n",
    "\n",
    "        return 1 if self.rank in '1357' else 0 if self.rank in '567' else -1\n",
    "\n",
    "class Player:\n",
    "    def __init__(self, chips=100):\n",
    "        self.chips = chips\n",
    "    def bet(self):\n",
    "        return 1\n",
    "    def win(self, amount):\n",
    "\n",
    "\n",
    "        self.chips += amount\n",
    "    def lose(self, amount):\n",
    "        self.chips -= amount\n",
    "\n",
    "class CountingPlayer(Player):\n",
    "    def __init__(self, threshold):\n",
    "        super().__init__()\n",
    "        self.threshold = threshold\n",
    "    def decide(self, hand_value):\n",
    "\n",
    "        return \"Stay\" if hand_value >= 18 else \"Hit\"\n",
    "\n",
    "class Dealer(Player):\n",
    "    def decide(self):\n",
    "        return \"Stay\" if sum(c.card_value() for c in self.hand) >= 17 else \"Hit\"\n",
    "\n",
    "def simulate_round(players, deck):\n",
    "    for player in players:\n",
    "        player.hand = [deck.pop() for _ in range(2)]\n",
    "    dealer = players[0]\n",
    "    dealer.hand.append(deck.pop())\n",
    "    for player in players[1:]:\n",
    "        while isinstance(player, CountingPlayer) and player.decide(sum(c.card_value() for c in player.hand)) == \"Hit\" and deck:\n",
    "            player.hand.append(deck.pop())\n",
    "\n",
    "\n",
    "    while isinstance(dealer, Dealer) and dealer.decide() == \"Hit\" and deck:\n",
    "        dealer.hand.append(deck.pop())\n",
    "    dealer_value = sum(c.card_value() for c in dealer.hand)\n",
    "    for player in players[1:]:\n",
    "        if isinstance(player, CountingPlayer):\n",
    "            player_value = sum(c.card_value() for c in player.hand)\n",
    "            if player_value > 21 or (dealer_value <= 21 and dealer_value > player_value):\n",
    "                player.lose(player.bet())\n",
    "            elif player_value != dealer_value:\n",
    "                player.win(player.bet())\n",
    "\n",
    "def simulate_game(threshold):\n",
    "    dealer = Dealer()\n",
    "    strategy_player = CountingPlayer(threshold)\n",
    "    other_players = [Player() for _ in range(3)]\n",
    "    players = [dealer, strategy_player] + other_players\n",
    "    deck = [Card(s, str(r)) for s in 'Hearts Diamonds Clubs Spades'.split() for r in range(1, 14)]\n",
    "    random.shuffle(deck)\n",
    "    for _ in range(50):\n",
    "        if deck:\n",
    "            simulate_round(players, deck)\n",
    "        else:  # 10, J, Q, K\n",
    "            break\n",
    "    return strategy_player.chips - 100"
   ]
  },
  {
   "cell_type": "code",
   "execution_count": 58,
   "metadata": {},
   "outputs": [
    {
     "name": "stdout",
     "output_type": "stream",
     "text": [
      "Improved Method's optimal threshold val: -1\n"
     ]
    }
   ],
   "source": [
    "thres_vals = [-5, -4, -3, -2, -1]\n",
    "avg_win_new= [np.mean([simulate_game(i) for j in range(100)]) / 50 for i in thres_vals]\n",
    "optimal_threshold = thres_vals[np.argmax(avg_win_new)]\n",
    "\n",
    "print(\"Improved Method's optimal threshold val:\", optimal_threshold)"
   ]
  },
  {
   "cell_type": "code",
   "execution_count": null,
   "metadata": {},
   "outputs": [],
   "source": [
    "## improvement in our result??"
   ]
  }
 ],
 "metadata": {
  "kernelspec": {
   "display_name": "Python 3 (ipykernel)",
   "language": "python",
   "name": "python3"
  },
  "language_info": {
   "codemirror_mode": {
    "name": "ipython",
    "version": 3
   },
   "file_extension": ".py",
   "mimetype": "text/x-python",
   "name": "python",
   "nbconvert_exporter": "python",
   "pygments_lexer": "ipython3",
   "version": "3.12.4"
  }
 },
 "nbformat": 4,
 "nbformat_minor": 4
}
